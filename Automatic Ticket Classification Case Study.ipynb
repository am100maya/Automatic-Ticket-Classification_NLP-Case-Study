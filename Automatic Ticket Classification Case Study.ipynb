{
 "cells": [
  {
   "cell_type": "markdown",
   "id": "7960b17e",
   "metadata": {},
   "source": [
    "\n",
    "\n"
   ]
  },
  {
   "cell_type": "markdown",
   "id": "bd4b0be2",
   "metadata": {},
   "source": []
  },
  {
   "cell_type": "markdown",
   "id": "f1d1c575",
   "metadata": {},
   "source": [
    "## Importing libraries"
   ]
  },
  {
   "cell_type": "code",
   "execution_count": 6,
   "id": "cfede630",
   "metadata": {},
   "outputs": [
    {
     "name": "stdout",
     "output_type": "stream",
     "text": [
      "Defaulting to user installation because normal site-packages is not writeable\n",
      "Collecting swifter\n",
      "  Downloading swifter-1.4.0.tar.gz (1.2 MB)\n",
      "     ---------------------------------------- 0.0/1.2 MB ? eta -:--:--\n",
      "      --------------------------------------- 0.0/1.2 MB 682.7 kB/s eta 0:00:02\n",
      "     -- ------------------------------------- 0.1/1.2 MB 1.2 MB/s eta 0:00:01\n",
      "     ----- ---------------------------------- 0.2/1.2 MB 1.4 MB/s eta 0:00:01\n",
      "     ----------- ---------------------------- 0.3/1.2 MB 2.0 MB/s eta 0:00:01\n",
      "     --------------- ------------------------ 0.5/1.2 MB 2.4 MB/s eta 0:00:01\n",
      "     ------------------- -------------------- 0.6/1.2 MB 2.3 MB/s eta 0:00:01\n",
      "     -------------------------- ------------- 0.8/1.2 MB 2.7 MB/s eta 0:00:01\n",
      "     --------------------------------- ------ 1.0/1.2 MB 2.8 MB/s eta 0:00:01\n",
      "     -------------------------------------- - 1.1/1.2 MB 2.9 MB/s eta 0:00:01\n",
      "     ---------------------------------------- 1.2/1.2 MB 2.8 MB/s eta 0:00:00\n",
      "  Preparing metadata (setup.py): started\n",
      "  Preparing metadata (setup.py): finished with status 'done'\n",
      "Requirement already satisfied: pandas>=1.0.0 in c:\\users\\am100\\appdata\\roaming\\python\\python311\\site-packages (from swifter) (1.5.3)\n",
      "Requirement already satisfied: psutil>=5.6.6 in c:\\programdata\\anaconda3\\lib\\site-packages (from swifter) (5.9.0)\n",
      "Requirement already satisfied: dask>=2.10.0 in c:\\programdata\\anaconda3\\lib\\site-packages (from dask[dataframe]>=2.10.0->swifter) (2023.6.0)\n",
      "Requirement already satisfied: tqdm>=4.33.0 in c:\\programdata\\anaconda3\\lib\\site-packages (from swifter) (4.65.0)\n",
      "Requirement already satisfied: click>=8.0 in c:\\programdata\\anaconda3\\lib\\site-packages (from dask>=2.10.0->dask[dataframe]>=2.10.0->swifter) (8.0.4)\n",
      "Requirement already satisfied: cloudpickle>=1.5.0 in c:\\programdata\\anaconda3\\lib\\site-packages (from dask>=2.10.0->dask[dataframe]>=2.10.0->swifter) (2.2.1)\n",
      "Requirement already satisfied: fsspec>=2021.09.0 in c:\\programdata\\anaconda3\\lib\\site-packages (from dask>=2.10.0->dask[dataframe]>=2.10.0->swifter) (2023.4.0)\n",
      "Requirement already satisfied: packaging>=20.0 in c:\\programdata\\anaconda3\\lib\\site-packages (from dask>=2.10.0->dask[dataframe]>=2.10.0->swifter) (23.1)\n",
      "Requirement already satisfied: partd>=1.2.0 in c:\\programdata\\anaconda3\\lib\\site-packages (from dask>=2.10.0->dask[dataframe]>=2.10.0->swifter) (1.4.0)\n",
      "Requirement already satisfied: pyyaml>=5.3.1 in c:\\programdata\\anaconda3\\lib\\site-packages (from dask>=2.10.0->dask[dataframe]>=2.10.0->swifter) (6.0)\n",
      "Requirement already satisfied: toolz>=0.10.0 in c:\\programdata\\anaconda3\\lib\\site-packages (from dask>=2.10.0->dask[dataframe]>=2.10.0->swifter) (0.12.0)\n",
      "Requirement already satisfied: importlib-metadata>=4.13.0 in c:\\programdata\\anaconda3\\lib\\site-packages (from dask>=2.10.0->dask[dataframe]>=2.10.0->swifter) (6.0.0)\n",
      "Requirement already satisfied: numpy>=1.21 in c:\\users\\am100\\appdata\\roaming\\python\\python311\\site-packages (from dask[dataframe]>=2.10.0->swifter) (1.24.4)\n",
      "Requirement already satisfied: python-dateutil>=2.8.1 in c:\\programdata\\anaconda3\\lib\\site-packages (from pandas>=1.0.0->swifter) (2.8.2)\n",
      "Requirement already satisfied: pytz>=2020.1 in c:\\programdata\\anaconda3\\lib\\site-packages (from pandas>=1.0.0->swifter) (2023.3.post1)\n",
      "Requirement already satisfied: colorama in c:\\programdata\\anaconda3\\lib\\site-packages (from tqdm>=4.33.0->swifter) (0.4.6)\n",
      "Requirement already satisfied: zipp>=0.5 in c:\\programdata\\anaconda3\\lib\\site-packages (from importlib-metadata>=4.13.0->dask>=2.10.0->dask[dataframe]>=2.10.0->swifter) (3.11.0)\n",
      "Requirement already satisfied: locket in c:\\programdata\\anaconda3\\lib\\site-packages (from partd>=1.2.0->dask>=2.10.0->dask[dataframe]>=2.10.0->swifter) (1.0.0)\n",
      "Requirement already satisfied: six>=1.5 in c:\\programdata\\anaconda3\\lib\\site-packages (from python-dateutil>=2.8.1->pandas>=1.0.0->swifter) (1.16.0)\n",
      "Building wheels for collected packages: swifter\n",
      "  Building wheel for swifter (setup.py): started\n",
      "  Building wheel for swifter (setup.py): finished with status 'done'\n",
      "  Created wheel for swifter: filename=swifter-1.4.0-py3-none-any.whl size=16519 sha256=250945722d08b02e4b6845ba02d51672c281c6fab0cebd1d99ae249905bd3551\n",
      "  Stored in directory: c:\\users\\am100\\appdata\\local\\pip\\cache\\wheels\\ef\\7f\\bd\\9bed48f078f3ee1fa75e0b29b6e0335ce1cb03a38d3443b3a3\n",
      "Successfully built swifter\n",
      "Installing collected packages: swifter\n",
      "Successfully installed swifter-1.4.0\n",
      "Note: you may need to restart the kernel to use updated packages.\n"
     ]
    }
   ],
   "source": [
    "pip install swifter"
   ]
  },
  {
   "cell_type": "code",
   "execution_count": 2,
   "id": "2483566b",
   "metadata": {},
   "outputs": [],
   "source": [
    "import json \n",
    "import numpy as np\n",
    "import pandas as pd\n",
    "import re, nltk, spacy, string\n",
    "import en_core_web_sm\n",
    "nlp = en_core_web_sm.load(disable=['parser','ner'])\n",
    "import seaborn as sns\n",
    "import matplotlib.pyplot as plt\n",
    "from wordcloud import WordCloud, STOPWORDS\n",
    "from collections import Counter\n",
    "import swifter\n",
    "from sklearn.feature_extraction.text import TfidfTransformer\n",
    "\n",
    "%matplotlib inline\n",
    "\n",
    "from plotly.offline import plot\n",
    "import plotly.graph_objects as go\n",
    "import plotly.express as px\n",
    "\n",
    "from sklearn.feature_extraction.text import CountVectorizer, TfidfVectorizer\n",
    "from pprint import pprint\n",
    "\n",
    "from nltk.stem import WordNetLemmatizer\n",
    "from nltk.tokenize import word_tokenize\n",
    "from nltk.corpus import stopwords\n",
    "\n",
    "import warnings\n",
    "warnings.filterwarnings('ignore')"
   ]
  },
  {
   "cell_type": "markdown",
   "id": "8e59ab6c",
   "metadata": {},
   "source": [
    "## Data Loading\n",
    "\n",
    "The data is in JSON format and we need to convert it to a dataframe."
   ]
  },
  {
   "cell_type": "code",
   "execution_count": null,
   "id": "c850f1b8",
   "metadata": {},
   "outputs": [],
   "source": [
    "# Opening JSON file \n",
    "\n",
    "f = open(r\"C:\\Users\\am100\\Downloads\\complaints-2021-05-14_08_16.json\")\n",
    " \n",
    "data = json.load(f)\n",
    "df=pd.json_normalize(data)"
   ]
  },
  {
   "cell_type": "code",
   "execution_count": null,
   "id": "c5b191f6",
   "metadata": {},
   "outputs": [],
   "source": []
  }
 ],
 "metadata": {
  "kernelspec": {
   "display_name": "Python 3 (ipykernel)",
   "language": "python",
   "name": "python3"
  },
  "language_info": {
   "codemirror_mode": {
    "name": "ipython",
    "version": 3
   },
   "file_extension": ".py",
   "mimetype": "text/x-python",
   "name": "python",
   "nbconvert_exporter": "python",
   "pygments_lexer": "ipython3",
   "version": "3.11.5"
  }
 },
 "nbformat": 4,
 "nbformat_minor": 5
}
